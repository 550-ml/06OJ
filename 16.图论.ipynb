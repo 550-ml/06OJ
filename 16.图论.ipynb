{
 "cells": [
  {
   "cell_type": "code",
   "execution_count": 1,
   "metadata": {},
   "outputs": [],
   "source": [
    "def find(p, x):\n",
    "    if p[x] == x:\n",
    "        return x\n",
    "    p[x] = find(p, p[x])\n",
    "    return p[x]\n",
    "while True:\n",
    "    try:\n",
    "        (n,m) = map(int, input().split())\n",
    "        if n == 0:\n",
    "            break\n",
    "        p = [0]*(n+1)\n",
    "        for i in range(1,n+1):\n",
    "            p[i] = i\n",
    "        ans = 0\n",
    "        for i in range(m):\n",
    "            (a,b) = map(int, input().split())\n",
    "            fa = find(p,a)\n",
    "            fb = find(p,b)\n",
    "            if fa != fb:\n",
    "                p[fa] = fb\n",
    "                ans += 1\n",
    "        print(n-ans-1)\n",
    "        \n",
    "    except:\n",
    "        break"
   ]
  }
 ],
 "metadata": {
  "kernelspec": {
   "display_name": "d2l",
   "language": "python",
   "name": "python3"
  },
  "language_info": {
   "codemirror_mode": {
    "name": "ipython",
    "version": 3
   },
   "file_extension": ".py",
   "mimetype": "text/x-python",
   "name": "python",
   "nbconvert_exporter": "python",
   "pygments_lexer": "ipython3",
   "version": "0.0.0"
  }
 },
 "nbformat": 4,
 "nbformat_minor": 2
}
