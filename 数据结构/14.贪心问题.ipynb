{
 "cells": [
  {
   "cell_type": "code",
   "execution_count": 1,
   "metadata": {},
   "outputs": [
    {
     "name": "stdout",
     "output_type": "stream",
     "text": [
      "136.000\n"
     ]
    }
   ],
   "source": [
    "(x, n) = map(int,input().split())\n",
    "num_list = []\n",
    "for i in range(n):\n",
    "    temp_in = list(map(int,input().split()))\n",
    "    # 计算一个平均价值\n",
    "    pre_hao = temp_in[1] / temp_in[0]\n",
    "    temp_in.append(pre_hao)\n",
    "    num_list.append(temp_in)\n",
    "# 排序\n",
    "num_list.sort(key = lambda x:x[2])\n",
    "\n",
    "# 喝毫升数\n",
    "ans = 0\n",
    "for i in range(n):\n",
    "    if x >= num_list[i][1]:\n",
    "        # 钱是够的\n",
    "        ans += num_list[i][0]\n",
    "        x -= num_list[i][1]\n",
    "    else:\n",
    "        ans += num_list[i][0] * x / num_list[i][1]\n",
    "print(\"%.3f\" % ans)\n",
    "    "
   ]
  },
  {
   "cell_type": "code",
   "execution_count": null,
   "metadata": {},
   "outputs": [],
   "source": []
  }
 ],
 "metadata": {
  "kernelspec": {
   "display_name": "d2l",
   "language": "python",
   "name": "python3"
  },
  "language_info": {
   "codemirror_mode": {
    "name": "ipython",
    "version": 3
   },
   "file_extension": ".py",
   "mimetype": "text/x-python",
   "name": "python",
   "nbconvert_exporter": "python",
   "pygments_lexer": "ipython3",
   "version": "0.0.0"
  }
 },
 "nbformat": 4,
 "nbformat_minor": 2
}
