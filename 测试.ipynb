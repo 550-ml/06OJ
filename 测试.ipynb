{
 "cells": [
  {
   "cell_type": "code",
   "execution_count": null,
   "metadata": {},
   "outputs": [],
   "source": [
    "# 计算字符串的距离\n",
    "def get_str_distance(str_a, str_b):\n",
    "    # 判断字符串是否相等\n",
    "    if str_a == str_b:\n",
    "        return 0\n",
    "    \n",
    "    \n",
    "    \n",
    "    \n",
    "    \n",
    "n = int(input())\n",
    "for _ in range(n):\n",
    "    "
   ]
  },
  {
   "cell_type": "code",
   "execution_count": 3,
   "metadata": {},
   "outputs": [
    {
     "name": "stdout",
     "output_type": "stream",
     "text": [
      "1 3 \n",
      "2 1 \n"
     ]
    },
    {
     "ename": "ValueError",
     "evalue": "invalid literal for int() with base 10: ''",
     "output_type": "error",
     "traceback": [
      "\u001b[1;31m---------------------------------------------------------------------------\u001b[0m",
      "\u001b[1;31mValueError\u001b[0m                                Traceback (most recent call last)",
      "Input \u001b[1;32mIn [3]\u001b[0m, in \u001b[0;36m<cell line: 4>\u001b[1;34m()\u001b[0m\n\u001b[0;32m      1\u001b[0m \u001b[38;5;66;03m# 括号匹配，使用栈\u001b[39;00m\n\u001b[0;32m      3\u001b[0m \u001b[38;5;28;01mwhile\u001b[39;00m \u001b[38;5;28;01mTrue\u001b[39;00m:\n\u001b[1;32m----> 4\u001b[0m     n \u001b[38;5;241m=\u001b[39m \u001b[38;5;28;43mint\u001b[39;49m\u001b[43m(\u001b[49m\u001b[38;5;28;43minput\u001b[39;49m\u001b[43m(\u001b[49m\u001b[43m)\u001b[49m\u001b[43m)\u001b[49m\n\u001b[0;32m      5\u001b[0m     str_list \u001b[38;5;241m=\u001b[39m \u001b[38;5;28minput\u001b[39m() \u001b[38;5;66;03m# 1122\u001b[39;00m\n\u001b[0;32m      6\u001b[0m     stack \u001b[38;5;241m=\u001b[39m []\n",
      "\u001b[1;31mValueError\u001b[0m: invalid literal for int() with base 10: ''"
     ]
    }
   ],
   "source": [
    "# 括号匹配，使用栈\n",
    "\n",
    "while True:\n",
    "    try:\n",
    "        n = int(input())\n",
    "        str_list = input() # 1122\n",
    "        stack = []\n",
    "        ans_list = []\n",
    "        for i, str_i in enumerate(str_list):\n",
    "            if str_i == '1': # 说明是左括号，压栈\n",
    "                stack.append(i+1)\n",
    "            if str_i == '2':\n",
    "                left = stack.pop()\n",
    "                ans_list.append(left)\n",
    "        \n",
    "        # 输出\n",
    "        for ans in ans_list:\n",
    "            print(ans, end=' ')\n",
    "        print()\n",
    "    except:\n",
    "        break"
   ]
  },
  {
   "cell_type": "code",
   "execution_count": 6,
   "metadata": {},
   "outputs": [
    {
     "name": "stdout",
     "output_type": "stream",
     "text": [
      "8\n"
     ]
    }
   ],
   "source": [
    "# 放苹果：M，N 其实是M，N-1个分隔符\n",
    "total = int(input())\n",
    "\n",
    "# 递归\n",
    "def get_ans(m, n):  # M个苹果，N个盘子\n",
    "    if m == 0 or n == 1:  # 递归结束条件\n",
    "        return 1\n",
    "    if m < n:\n",
    "        return get_ans(m, m)\n",
    "    else:\n",
    "        return get_ans(m-n, n)+ get_ans(m, n-1) \n",
    "    \n",
    "for i in range(total):\n",
    "    (m, n) = map(int, input().split())\n",
    "    # 计算阶乘\n",
    "    ans = get_ans(m, n)\n",
    "    print(ans)"
   ]
  },
  {
   "cell_type": "code",
   "execution_count": 10,
   "metadata": {},
   "outputs": [
    {
     "name": "stdout",
     "output_type": "stream",
     "text": [
      "3\n"
     ]
    }
   ],
   "source": [
    "from collections import deque\n",
    "\n",
    "\n",
    "def min_time_to_catch_cow_BFS(N, K):\n",
    "    # 初始化队列，农夫从位置N开始\n",
    "    queue = deque([(N, 0)])  # 队列中的元素格式为 (位置, 已花费的时间)\n",
    "    visited = set([N])  # 记录已经访问过的位置\n",
    "\n",
    "    while queue:\n",
    "        current_position, time_spent = queue.popleft()\n",
    "\n",
    "        # 检查是否到达牛的位置\n",
    "        if current_position == K:\n",
    "            return time_spent\n",
    "\n",
    "        # 农夫可以向左或向右移动一个单位\n",
    "        for move in [-1, 1]:\n",
    "            next_position = current_position + move\n",
    "            if next_position not in visited:\n",
    "                visited.add(next_position)\n",
    "                queue.append((next_position, time_spent + 1))\n",
    "\n",
    "        # 农夫可以移动到当前位置的两倍\n",
    "        next_position = current_position * 2\n",
    "        while next_position <= 2 * K and next_position not in visited:\n",
    "            visited.add(next_position)\n",
    "            queue.append((next_position, time_spent + 1))\n",
    "            next_position *= 2  # 继续尝试下一个2的幂的位置\n",
    "\n",
    "    # 如果没有找到路径，则返回-1或者其他表示失败的值\n",
    "    return -1\n",
    "\n",
    "\n",
    "# 样例输入\n",
    "N, K = 5, 17\n",
    "# 输出样例\n",
    "print(min_time_to_catch_cow_BFS(N, K))  # 应该输出4"
   ]
  },
  {
   "cell_type": "code",
   "execution_count": 12,
   "metadata": {},
   "outputs": [
    {
     "name": "stdout",
     "output_type": "stream",
     "text": [
      "1\n",
      "1\n"
     ]
    },
    {
     "ename": "ValueError",
     "evalue": "not enough values to unpack (expected 2, got 0)",
     "output_type": "error",
     "traceback": [
      "\u001b[1;31m---------------------------------------------------------------------------\u001b[0m",
      "\u001b[1;31mValueError\u001b[0m                                Traceback (most recent call last)",
      "Input \u001b[1;32mIn [12]\u001b[0m, in \u001b[0;36m<cell line: 32>\u001b[1;34m()\u001b[0m\n\u001b[0;32m     31\u001b[0m n \u001b[38;5;241m=\u001b[39m \u001b[38;5;28mint\u001b[39m(\u001b[38;5;28minput\u001b[39m())\n\u001b[0;32m     32\u001b[0m \u001b[38;5;28;01mfor\u001b[39;00m _ \u001b[38;5;129;01min\u001b[39;00m \u001b[38;5;28mrange\u001b[39m(n):\n\u001b[1;32m---> 33\u001b[0m     s1, s2 \u001b[38;5;241m=\u001b[39m \u001b[38;5;28minput\u001b[39m()\u001b[38;5;241m.\u001b[39msplit()\n\u001b[0;32m     34\u001b[0m     \u001b[38;5;66;03m# 计算并输出编辑距离\u001b[39;00m\n\u001b[0;32m     35\u001b[0m     \u001b[38;5;28mprint\u001b[39m(edit_distance(s1, s2))\n",
      "\u001b[1;31mValueError\u001b[0m: not enough values to unpack (expected 2, got 0)"
     ]
    }
   ],
   "source": [
    "import sys\n",
    "\n",
    "\n",
    "def edit_distance(s1, s2):\n",
    "    # 初始化一个矩阵，用于存储编辑距离\n",
    "    dp = [[0] * (len(s2) + 1) for _ in range(len(s1) + 1)]\n",
    "\n",
    "    # 初始化第一行和第一列\n",
    "    for i in range(len(s1) + 1):\n",
    "        dp[i][0] = i\n",
    "    for j in range(len(s2) + 1):\n",
    "        dp[0][j] = j\n",
    "\n",
    "    # 填充矩阵\n",
    "    for i in range(1, len(s1) + 1):\n",
    "        for j in range(1, len(s2) + 1):\n",
    "            if s1[i - 1] == s2[j - 1]:\n",
    "                dp[i][j] = dp[i - 1][j - 1]  # 字符相同，不需要操作\n",
    "            else:\n",
    "                dp[i][j] = 1 + min(\n",
    "                    dp[i - 1][j],    # 删除操作\n",
    "                    dp[i][j - 1],    # 插入操作\n",
    "                    dp[i - 1][j - 1]  # 替换操作（虽然题目中不涉及，但通常计算编辑距离会考虑这个操作）\n",
    "                )\n",
    "\n",
    "    # 返回最终的编辑距离\n",
    "    return dp[-1][-1]\n",
    "\n",
    "\n",
    "# 读取输入，处理每一组测试数据\n",
    "n = int(input())\n",
    "for _ in range(n):\n",
    "    s1, s2 = input().split()\n",
    "    # 计算并输出编辑距离\n",
    "    print(edit_distance(s1, s2))"
   ]
  },
  {
   "cell_type": "code",
   "execution_count": 17,
   "metadata": {},
   "outputs": [
    {
     "ename": "IndexError",
     "evalue": "list index out of range",
     "output_type": "error",
     "traceback": [
      "\u001b[1;31m---------------------------------------------------------------------------\u001b[0m",
      "\u001b[1;31mIndexError\u001b[0m                                Traceback (most recent call last)",
      "Input \u001b[1;32mIn [17]\u001b[0m, in \u001b[0;36m<cell line: 31>\u001b[1;34m()\u001b[0m\n\u001b[0;32m     29\u001b[0m stra \u001b[38;5;241m=\u001b[39m \u001b[38;5;124m'\u001b[39m\u001b[38;5;124mabcdefg\u001b[39m\u001b[38;5;124m'\u001b[39m\n\u001b[0;32m     30\u001b[0m strb \u001b[38;5;241m=\u001b[39m \u001b[38;5;124m'\u001b[39m\u001b[38;5;124mabcdef\u001b[39m\u001b[38;5;124m'\u001b[39m\n\u001b[1;32m---> 31\u001b[0m \u001b[38;5;28mprint\u001b[39m(\u001b[43mget_distance\u001b[49m\u001b[43m(\u001b[49m\u001b[43mstra\u001b[49m\u001b[43m,\u001b[49m\u001b[43m \u001b[49m\u001b[43mstrb\u001b[49m\u001b[43m)\u001b[49m)  \u001b[38;5;66;03m# 应该输出1\u001b[39;00m\n\u001b[0;32m     33\u001b[0m stra \u001b[38;5;241m=\u001b[39m \u001b[38;5;124m'\u001b[39m\u001b[38;5;124mabcdefg\u001b[39m\u001b[38;5;124m'\u001b[39m\n\u001b[0;32m     34\u001b[0m strb \u001b[38;5;241m=\u001b[39m \u001b[38;5;124m'\u001b[39m\u001b[38;5;124mabcdef\u001b[39m\u001b[38;5;124m'\u001b[39m\n",
      "Input \u001b[1;32mIn [17]\u001b[0m, in \u001b[0;36mget_distance\u001b[1;34m(str_a, str_b)\u001b[0m\n\u001b[0;32m     21\u001b[0m         \u001b[38;5;28;01melse\u001b[39;00m:\n\u001b[0;32m     22\u001b[0m             d \u001b[38;5;241m=\u001b[39m \u001b[38;5;241m1\u001b[39m\n\u001b[1;32m---> 23\u001b[0m         edit[i][j] \u001b[38;5;241m=\u001b[39m \u001b[38;5;28mmin\u001b[39m(edit[i\u001b[38;5;241m-\u001b[39m\u001b[38;5;241m1\u001b[39m][j] \u001b[38;5;241m+\u001b[39m \u001b[38;5;241m1\u001b[39m, \u001b[43medit\u001b[49m\u001b[43m[\u001b[49m\u001b[43mi\u001b[49m\u001b[43m]\u001b[49m\n\u001b[0;32m     24\u001b[0m                          [j\u001b[38;5;241m-\u001b[39m\u001b[38;5;241m1\u001b[39m] \u001b[38;5;241m+\u001b[39m \u001b[38;5;241m1\u001b[39m, edit[i\u001b[38;5;241m-\u001b[39m\u001b[38;5;241m1\u001b[39m][j\u001b[38;5;241m-\u001b[39m\u001b[38;5;241m1\u001b[39m] \u001b[38;5;241m+\u001b[39m d)\n\u001b[0;32m     26\u001b[0m \u001b[38;5;28;01mreturn\u001b[39;00m edit[\u001b[38;5;28mlen\u001b[39m(str_a)][\u001b[38;5;28mlen\u001b[39m(str_b)]\n",
      "\u001b[1;31mIndexError\u001b[0m: list index out of range"
     ]
    }
   ],
   "source": [
    "def get_distance(str_a, str_b):\n",
    "    edit = [[i+j for j in range(len(str_a)+1)] for i in range(len(str_b)+1)]\n",
    "    print(edit)\n",
    "    for i in range(1, len(str_a) +1):\n",
    "        for j in range(1, len(str_b) +1):\n",
    "            if str_a[i -1] == str_b[j-1]:\n",
    "                d = 0\n",
    "            else:\n",
    "                d =1\n",
    "            edit[i][j] = min(edit[i-1][j]+1, edit[i][j-1]+1, edit[i-1][j-1]+d)\n",
    "        \n",
    "    return edit[len(str_a)][len(str_b)]\n",
    "\n",
    "\n",
    "stra = 'abcdefg'\n",
    "strb = 'abcdef'\n",
    "print(get_distance(stra,strb))"
   ]
  },
  {
   "cell_type": "code",
   "execution_count": 21,
   "metadata": {},
   "outputs": [
    {
     "name": "stdout",
     "output_type": "stream",
     "text": [
      "1 1\n",
      "1 2\n",
      "1 3\n",
      "1 4\n",
      "1 5\n",
      "1 6\n",
      "2 1\n",
      "2 2\n",
      "2 3\n",
      "2 4\n",
      "2 5\n",
      "2 6\n",
      "3 1\n",
      "3 2\n",
      "3 3\n",
      "3 4\n",
      "3 5\n",
      "3 6\n",
      "4 1\n",
      "4 2\n",
      "4 3\n",
      "4 4\n",
      "4 5\n",
      "4 6\n",
      "5 1\n",
      "5 2\n",
      "5 3\n",
      "5 4\n",
      "5 5\n",
      "5 6\n",
      "6 1\n",
      "6 2\n",
      "6 3\n",
      "6 4\n",
      "6 5\n",
      "6 6\n",
      "7 1\n"
     ]
    },
    {
     "ename": "IndexError",
     "evalue": "list index out of range",
     "output_type": "error",
     "traceback": [
      "\u001b[1;31m---------------------------------------------------------------------------\u001b[0m",
      "\u001b[1;31mIndexError\u001b[0m                                Traceback (most recent call last)",
      "Input \u001b[1;32mIn [21]\u001b[0m, in \u001b[0;36m<cell line: 17>\u001b[1;34m()\u001b[0m\n\u001b[0;32m     15\u001b[0m stra \u001b[38;5;241m=\u001b[39m \u001b[38;5;124m'\u001b[39m\u001b[38;5;124mabcdefg\u001b[39m\u001b[38;5;124m'\u001b[39m\n\u001b[0;32m     16\u001b[0m strb \u001b[38;5;241m=\u001b[39m \u001b[38;5;124m'\u001b[39m\u001b[38;5;124mabcdef\u001b[39m\u001b[38;5;124m'\u001b[39m\n\u001b[1;32m---> 17\u001b[0m \u001b[38;5;28mprint\u001b[39m(\u001b[43mget_distance\u001b[49m\u001b[43m(\u001b[49m\u001b[43mstra\u001b[49m\u001b[43m,\u001b[49m\u001b[43m \u001b[49m\u001b[43mstrb\u001b[49m\u001b[43m)\u001b[49m)  \u001b[38;5;66;03m# 应该输出1\u001b[39;00m\n",
      "Input \u001b[1;32mIn [21]\u001b[0m, in \u001b[0;36mget_distance\u001b[1;34m(str_a, str_b)\u001b[0m\n\u001b[0;32m      8\u001b[0m             d \u001b[38;5;241m=\u001b[39m \u001b[38;5;241m1\u001b[39m\n\u001b[0;32m      9\u001b[0m         \u001b[38;5;28mprint\u001b[39m(i,j)\n\u001b[1;32m---> 10\u001b[0m         edit[i][j] \u001b[38;5;241m=\u001b[39m \u001b[38;5;28mmin\u001b[39m(edit[i\u001b[38;5;241m-\u001b[39m\u001b[38;5;241m1\u001b[39m][j] \u001b[38;5;241m+\u001b[39m \u001b[38;5;241m1\u001b[39m, \u001b[43medit\u001b[49m\u001b[43m[\u001b[49m\u001b[43mi\u001b[49m\u001b[43m]\u001b[49m[j\u001b[38;5;241m-\u001b[39m\u001b[38;5;241m1\u001b[39m] \u001b[38;5;241m+\u001b[39m \u001b[38;5;241m1\u001b[39m, edit[i\u001b[38;5;241m-\u001b[39m\u001b[38;5;241m1\u001b[39m][j\u001b[38;5;241m-\u001b[39m\u001b[38;5;241m1\u001b[39m] \u001b[38;5;241m+\u001b[39m d)\n\u001b[0;32m     12\u001b[0m \u001b[38;5;28;01mreturn\u001b[39;00m edit[\u001b[38;5;28mlen\u001b[39m(str_a)][\u001b[38;5;28mlen\u001b[39m(str_b)]\n",
      "\u001b[1;31mIndexError\u001b[0m: list index out of range"
     ]
    }
   ],
   "source": [
    "def get_distance(str_a, str_b):\n",
    "    edit = [[0]*(len(str_a)+1) for _ in range(len(str_b)+1)]\n",
    "    for i in range(1, len(str_a) + 1):\n",
    "        for j in range(1, len(str_b) + 1):\n",
    "            if str_a[i - 1] == str_b[j - 1]:\n",
    "                d = 0\n",
    "            else:\n",
    "                d = 1\n",
    "            print(i,j)\n",
    "            edit[i][j] = min(edit[i-1][j] + 1, edit[i][j-1] + 1, edit[i-1][j-1] + d)\n",
    "\n",
    "    return edit[len(str_a)][len(str_b)]\n",
    "\n",
    "\n",
    "stra = 'abcdefg'\n",
    "strb = 'abcdef'\n",
    "print(get_distance(stra, strb))  # 应该输出1"
   ]
  },
  {
   "cell_type": "code",
   "execution_count": 27,
   "metadata": {},
   "outputs": [
    {
     "ename": "IndexError",
     "evalue": "list index out of range",
     "output_type": "error",
     "traceback": [
      "\u001b[1;31m---------------------------------------------------------------------------\u001b[0m",
      "\u001b[1;31mIndexError\u001b[0m                                Traceback (most recent call last)",
      "Input \u001b[1;32mIn [27]\u001b[0m, in \u001b[0;36m<cell line: 25>\u001b[1;34m()\u001b[0m\n\u001b[0;32m     23\u001b[0m stra \u001b[38;5;241m=\u001b[39m \u001b[38;5;124m'\u001b[39m\u001b[38;5;124mabcdefg\u001b[39m\u001b[38;5;124m'\u001b[39m\n\u001b[0;32m     24\u001b[0m strb \u001b[38;5;241m=\u001b[39m \u001b[38;5;124m'\u001b[39m\u001b[38;5;124mabcdef\u001b[39m\u001b[38;5;124m'\u001b[39m\n\u001b[1;32m---> 25\u001b[0m \u001b[38;5;28mprint\u001b[39m(\u001b[43mget_distance\u001b[49m\u001b[43m(\u001b[49m\u001b[43mstra\u001b[49m\u001b[43m,\u001b[49m\u001b[43m \u001b[49m\u001b[43mstrb\u001b[49m\u001b[43m)\u001b[49m)  \u001b[38;5;66;03m# 应该输出1\u001b[39;00m\n",
      "Input \u001b[1;32mIn [27]\u001b[0m, in \u001b[0;36mget_distance\u001b[1;34m(str_a, str_b)\u001b[0m\n\u001b[0;32m     15\u001b[0m             edit[i][j] \u001b[38;5;241m=\u001b[39m edit[i\u001b[38;5;241m-\u001b[39m\u001b[38;5;241m1\u001b[39m][j\u001b[38;5;241m-\u001b[39m\u001b[38;5;241m1\u001b[39m]  \u001b[38;5;66;03m# 字符相同，不需要操作\u001b[39;00m\n\u001b[0;32m     16\u001b[0m         \u001b[38;5;28;01melse\u001b[39;00m:\n\u001b[1;32m---> 17\u001b[0m             edit[i][j] \u001b[38;5;241m=\u001b[39m \u001b[38;5;241m1\u001b[39m \u001b[38;5;241m+\u001b[39m \u001b[38;5;28mmin\u001b[39m(edit[i\u001b[38;5;241m-\u001b[39m\u001b[38;5;241m1\u001b[39m][j], \u001b[43medit\u001b[49m\u001b[43m[\u001b[49m\u001b[43mi\u001b[49m\u001b[43m]\u001b[49m[j\u001b[38;5;241m-\u001b[39m\u001b[38;5;241m1\u001b[39m])  \u001b[38;5;66;03m# 插入或删除操作\u001b[39;00m\n\u001b[0;32m     19\u001b[0m \u001b[38;5;28;01mreturn\u001b[39;00m edit[\u001b[38;5;28mlen\u001b[39m(str_a)][\u001b[38;5;28mlen\u001b[39m(str_b)]\n",
      "\u001b[1;31mIndexError\u001b[0m: list index out of range"
     ]
    }
   ],
   "source": [
    "def get_distance(str_a, str_b):\n",
    "    # 初始化一个二维数组，所有元素为0\n",
    "    edit = [[0]*(len(str_a)+1) for _ in range(len(str_b)+1)]\n",
    "\n",
    "    # 填充第一行和第一列\n",
    "    for i in range(len(str_a)+1):\n",
    "        edit[0][i] = i\n",
    "    for j in range(len(str_b)+1):\n",
    "        edit[j][0] = j\n",
    "\n",
    "    # 动态规划计算编辑距离\n",
    "    for i in range(1, len(str_a) + 1):\n",
    "        for j in range(1, len(str_b) + 1):\n",
    "            if str_a[i-1] == str_b[j-1]:\n",
    "                edit[i][j] = edit[i-1][j-1]  # 字符相同，不需要操作\n",
    "            else:\n",
    "                edit[i][j] = 1 + min(edit[i-1][j], edit[i][j-1], edit[i-1][j-1])  # 插入或删除操作\n",
    "\n",
    "    return edit[len(str_a)][len(str_b)]  # 返回最终的编辑距离\n",
    "\n",
    "\n",
    "# 测试代码\n",
    "stra = 'abcdefg'\n",
    "strb = 'abcdef'\n",
    "print(get_distance(stra, strb))  # 应该输出1"
   ]
  },
  {
   "cell_type": "code",
   "execution_count": 28,
   "metadata": {},
   "outputs": [
    {
     "name": "stdout",
     "output_type": "stream",
     "text": [
      "4\n"
     ]
    }
   ],
   "source": [
    "def get_distance(str_a, str_b):\n",
    "    # 初始化\n",
    "    edit = [[0] * (len(str_b) + 1) for _ in range(len(str_a) + 1)]\n",
    "    for i in range(len(str_a) + 1):\n",
    "        edit[i][0] = i  \n",
    "    for j in range(len(str_b) + 1):\n",
    "        edit[0][j] = j  \n",
    "\n",
    "    # 动态规划计\n",
    "    for i in range(1, len(str_a) + 1):\n",
    "        for j in range(1, len(str_b) + 1):\n",
    "            if str_a[i - 1] == str_b[j - 1]:\n",
    "                edit[i][j] = edit[i - 1][j - 1]  \n",
    "            else:\n",
    "                \n",
    "                edit[i][j] = 1 + min(edit[i - 1][j], edit[i][j - 1], edit[i-1][j-1])\n",
    "\n",
    "    return edit[len(str_a)][len(str_b)]  \n"
   ]
  },
  {
   "cell_type": "code",
   "execution_count": 29,
   "metadata": {},
   "outputs": [
    {
     "name": "stdout",
     "output_type": "stream",
     "text": [
      "0\n"
     ]
    },
    {
     "ename": "ValueError",
     "evalue": "not enough values to unpack (expected 2, got 1)",
     "output_type": "error",
     "traceback": [
      "\u001b[1;31m---------------------------------------------------------------------------\u001b[0m",
      "\u001b[1;31mValueError\u001b[0m                                Traceback (most recent call last)",
      "Input \u001b[1;32mIn [29]\u001b[0m, in \u001b[0;36m<cell line: 21>\u001b[1;34m()\u001b[0m\n\u001b[0;32m     20\u001b[0m n \u001b[38;5;241m=\u001b[39m \u001b[38;5;28mint\u001b[39m(\u001b[38;5;28minput\u001b[39m())\n\u001b[0;32m     21\u001b[0m \u001b[38;5;28;01mfor\u001b[39;00m _ \u001b[38;5;129;01min\u001b[39;00m \u001b[38;5;28mrange\u001b[39m(n):\n\u001b[1;32m---> 22\u001b[0m     stra, strb \u001b[38;5;241m=\u001b[39m \u001b[38;5;28minput\u001b[39m()\u001b[38;5;241m.\u001b[39msplit()\n\u001b[0;32m     23\u001b[0m     \u001b[38;5;28mprint\u001b[39m(get_distance(stra, strb))\n",
      "\u001b[1;31mValueError\u001b[0m: not enough values to unpack (expected 2, got 1)"
     ]
    }
   ],
   "source": [
    "def get_distance(str_a,str_b):\n",
    "    edit = [[0] * (len(str_b) + 1) for _ in range(len(str_a) + 1)]\n",
    "    # 初始化矩阵\n",
    "    for i in range(len(str_a) + 1):\n",
    "            edit[i][0] = i  \n",
    "    for j in range(len(str_b) + 1):\n",
    "        edit[0][j] = j  \n",
    "    \n",
    "    # 动态规划\n",
    "    for i in range(1, len(str_a) + 1):\n",
    "        for j in range(1, len(str_b) + 1):\n",
    "            if str_a[i - 1] == str_b[j - 1]:\n",
    "                edit[i][j] = edit[i - 1][j - 1]  \n",
    "            else:\n",
    "                \n",
    "                edit[i][j] = 1 + min(edit[i - 1][j], edit[i][j - 1], edit[i-1][j-1])\n",
    "\n",
    "    return edit[len(str_a)][len(str_b)]  \n",
    "\n",
    "n = int(input())\n",
    "for _ in range(n):\n",
    "    stra, strb = input().split()\n",
    "    print(get_distance(stra, strb))"
   ]
  },
  {
   "cell_type": "code",
   "execution_count": 31,
   "metadata": {},
   "outputs": [
    {
     "name": "stdout",
     "output_type": "stream",
     "text": [
      "4\n"
     ]
    }
   ],
   "source": [
    "# 抓牛，贪婪解法\n",
    "n, k = map(int, input().split())\n",
    "\n",
    "if n >= k:\n",
    "    print(n - k)\n",
    "    exit()\n",
    "\n",
    "f = [0] * (max(n, k) + 1)\n",
    "for i in range(n + 1): # n前面的数只能一步一步退回去\n",
    "    f[i] = n - i \n",
    "\n",
    "for i in range(n + 1, k + 1):\n",
    "    if i & 1:  # 如果i是奇数\n",
    "        f[i] = min(f[i - 1] + 1, f[i // 2] + 2, f[(i + 1) // 2] + 2)\n",
    "    else:\n",
    "        f[i] = min(f[i - 1] + 1, f[i // 2] + 1)\n",
    "\n",
    "print(f[k])\n",
    "\n"
   ]
  },
  {
   "cell_type": "code",
   "execution_count": null,
   "metadata": {},
   "outputs": [],
   "source": [
    "n, k = map(int, input().split())\n",
    "\n",
    "# 人在牛的右边：\n",
    "if n >= k:\n",
    "    print(n - k)\n",
    "    exit()\n",
    "# 人在牛的左边\n",
    "dp = [0] * (k + 1)\n",
    "\n",
    "for i in range(n+1):\n",
    "    dp[i] = n - i\n",
    "\n",
    "for i in range(n+1, k+1):\n",
    "    if i % 2 == 0:\n",
    "        dp[i] = min(dp[i-1]+1, dp[i//2]+1)\n",
    "    else:\n",
    "        dp[i] = min(dp[i-1]+1, dp[i//2]+2, dp[(i+1)//2]+2)\n",
    "print(dp[k])"
   ]
  },
  {
   "cell_type": "code",
   "execution_count": 32,
   "metadata": {},
   "outputs": [
    {
     "name": "stdout",
     "output_type": "stream",
     "text": [
      "1\n",
      "1\n",
      "1\n"
     ]
    },
    {
     "ename": "ValueError",
     "evalue": "not enough values to unpack (expected 2, got 0)",
     "output_type": "error",
     "traceback": [
      "\u001b[1;31m---------------------------------------------------------------------------\u001b[0m",
      "\u001b[1;31mValueError\u001b[0m                                Traceback (most recent call last)",
      "Input \u001b[1;32mIn [32]\u001b[0m, in \u001b[0;36m<cell line: 7>\u001b[1;34m()\u001b[0m\n\u001b[0;32m      6\u001b[0m \u001b[38;5;28;01mwhile\u001b[39;00m \u001b[38;5;28;01mTrue\u001b[39;00m:\n\u001b[0;32m      7\u001b[0m     \u001b[38;5;28;01mtry\u001b[39;00m:\n\u001b[1;32m----> 8\u001b[0m         a, b \u001b[38;5;241m=\u001b[39m \u001b[38;5;28mmap\u001b[39m(\u001b[38;5;28mint\u001b[39m, \u001b[38;5;28minput\u001b[39m()\u001b[38;5;241m.\u001b[39msplit())\n\u001b[0;32m      9\u001b[0m         \u001b[38;5;28mprint\u001b[39m(\u001b[38;5;241m1\u001b[39m \u001b[38;5;28;01mif\u001b[39;00m nim_game(a, b) \u001b[38;5;28;01melse\u001b[39;00m \u001b[38;5;241m0\u001b[39m)\n\u001b[0;32m     10\u001b[0m     \u001b[38;5;28;01mexcept\u001b[39;00m \u001b[38;5;167;01mEOFError\u001b[39;00m:\n",
      "\u001b[1;31mValueError\u001b[0m: not enough values to unpack (expected 2, got 0)"
     ]
    }
   ],
   "source": [
    "def nim_game(a, b):\n",
    "    return (a ^ b) != 0\n",
    "\n",
    "\n",
    "# 读取输入并处理每一行\n",
    "while True:\n",
    "    try:\n",
    "        a, b = map(int, input().split())\n",
    "        print(1 if nim_game(a, b) else 0)\n",
    "    except EOFError:\n",
    "        break"
   ]
  },
  {
   "cell_type": "code",
   "execution_count": null,
   "metadata": {},
   "outputs": [],
   "source": [
    "def find(x, parent):\n",
    "    if parent[x] != x:\n",
    "        parent[x] = find(parent[x], parent)\n",
    "    return parent[x]\n",
    "\n",
    "\n",
    "def union(x, y, parent):\n",
    "    rootX = find(x, parent)\n",
    "    rootY = find(y, parent)\n",
    "    if rootX != rootY:\n",
    "        parent[rootY] = rootX\n",
    "\n",
    "\n",
    "def count_religions(n, relations, parent):\n",
    "    for relation in relations:\n",
    "        union(relation[0], relation[1], parent)\n",
    "    religion_count = 0\n",
    "    for i in range(1, n+1):\n",
    "        if parent[i] == i:\n",
    "            religion_count += 1\n",
    "    return religion_count\n",
    "\n",
    "\n",
    "def main():\n",
    "    case_number = 1\n",
    "    while True:\n",
    "        n, m = map(int, input().split())\n",
    "        if n == 0 and m == 0:\n",
    "            break\n",
    "        relations = [tuple(map(int, input().split())) for _ in range(m)]\n",
    "        parent = [i for i in range(n+1)]\n",
    "        print('Case {}: {}'.format(case_number,\n",
    "              count_religions(n, relations, parent)))\n",
    "        case_number += 1\n",
    "\n",
    "\n",
    "main()"
   ]
  },
  {
   "cell_type": "code",
   "execution_count": 34,
   "metadata": {},
   "outputs": [],
   "source": [
    "number = 1\n",
    "def find(x, parent):\n",
    "    if parent[x] != x:\n",
    "        parent[x] = find(parent[x], parent)\n",
    "    return parent[x]\n",
    "\n",
    "\n",
    "def union(x, y, parent):\n",
    "    rootX = find(x, parent)\n",
    "    rootY = find(y, parent)\n",
    "    if rootX != rootY:\n",
    "        parent[rootY] = rootX\n",
    "        \n",
    "def count_religions(n, relations, parent):\n",
    "    for relation in relations:\n",
    "        union(relation[0], relation[1], parent)\n",
    "    religion_count = 0\n",
    "    for i in range(1, n+1):\n",
    "        if parent[i] == i:\n",
    "            religion_count += 1\n",
    "    return religion_count\n",
    "\n",
    "\n",
    "def main():\n",
    "    case_number = 1\n",
    "    while True:\n",
    "        n, m = map(int, input().split())\n",
    "        if n == 0 and m == 0:\n",
    "            break\n",
    "        relations = [tuple(map(int, input().split())) for _ in range(m)]\n",
    "        parent = [i for i in range(n+1)]\n",
    "        print('Case {}: {}'.format(case_number,\n",
    "              count_religions(n, relations, parent)))\n",
    "        case_number += 1\n",
    "\n",
    "\n",
    "main()"
   ]
  },
  {
   "cell_type": "code",
   "execution_count": 37,
   "metadata": {},
   "outputs": [
    {
     "name": "stdout",
     "output_type": "stream",
     "text": [
      "Jolly\n"
     ]
    }
   ],
   "source": [
    "def is_jolly_jumper(sequence):\n",
    "    # 计算相邻元素差的绝对值\n",
    "    differences = [abs(sequence[i] - sequence[i - 1])\n",
    "                   for i in range(1, len(sequence))]\n",
    "    # 对差值进行排序\n",
    "    differences.sort()\n",
    "    # 检查排序后的差值是否为1到n-1\n",
    "    for i in range(len(differences)):\n",
    "        if differences[i] != i + 1:\n",
    "            return \"Not jolly\"\n",
    "    return \"Jolly\"\n",
    "\n",
    "\n",
    "# 读取输入\n",
    "n = list(map(int,input().split()))\n",
    "sequence = n[1:]\n",
    "# 输出结果\n",
    "print(is_jolly_jumper(sequence))"
   ]
  },
  {
   "cell_type": "code",
   "execution_count": 3,
   "metadata": {},
   "outputs": [
    {
     "name": "stdout",
     "output_type": "stream",
     "text": [
      "Case 1: 1\n",
      "Case 1: 7\n"
     ]
    }
   ],
   "source": [
    "def find(p, x):\n",
    "    if p[x]==x:\n",
    "        return x\n",
    "    p[x] = find(p,p[x])\n",
    "    return p[x]\n",
    "t = 1\n",
    "while True:\n",
    "    try:\n",
    "        (n,m) = map(int, input().split())\n",
    "\n",
    "        if n == 0 and m == 0:\n",
    "            break\n",
    "        p = [0] * (n+1)\n",
    "        for i in range(1, n+1):\n",
    "            p[i] = i\n",
    "        ans = 0\n",
    "        for i in range(m):\n",
    "            (a, b) = map(int, input().split())\n",
    "            f_a = find(p, a)\n",
    "            f_b = find(p, b)\n",
    "            if f_a != f_b:\n",
    "                p[f_a] = f_b\n",
    "                ans+=1\n",
    "        print(f'Case {t}: {n-ans}')\n",
    "        t+=1\n",
    "    except:\n",
    "        break"
   ]
  },
  {
   "cell_type": "code",
   "execution_count": 1,
   "metadata": {},
   "outputs": [
    {
     "name": "stdout",
     "output_type": "stream",
     "text": [
      "0\n",
      "1\n"
     ]
    },
    {
     "ename": "IndexError",
     "evalue": "list index out of range",
     "output_type": "error",
     "traceback": [
      "\u001b[1;31m---------------------------------------------------------------------------\u001b[0m",
      "\u001b[1;31mIndexError\u001b[0m                                Traceback (most recent call last)",
      "\u001b[1;32m~\\AppData\\Local\\Temp\\ipykernel_3720\\3776424752.py\u001b[0m in \u001b[0;36m<module>\u001b[1;34m\u001b[0m\n\u001b[0;32m      4\u001b[0m \u001b[1;32mfor\u001b[0m \u001b[0m_\u001b[0m \u001b[1;32min\u001b[0m \u001b[0mrange\u001b[0m\u001b[1;33m(\u001b[0m\u001b[0mn\u001b[0m\u001b[1;33m)\u001b[0m\u001b[1;33m:\u001b[0m\u001b[1;33m\u001b[0m\u001b[1;33m\u001b[0m\u001b[0m\n\u001b[0;32m      5\u001b[0m     \u001b[0mline\u001b[0m \u001b[1;33m=\u001b[0m \u001b[0minput\u001b[0m\u001b[1;33m(\u001b[0m\u001b[1;33m)\u001b[0m\u001b[1;33m.\u001b[0m\u001b[0msplit\u001b[0m\u001b[1;33m(\u001b[0m\u001b[1;33m)\u001b[0m\u001b[1;33m\u001b[0m\u001b[1;33m\u001b[0m\u001b[0m\n\u001b[1;32m----> 6\u001b[1;33m     \u001b[0ms1\u001b[0m \u001b[1;33m=\u001b[0m \u001b[0mline\u001b[0m\u001b[1;33m[\u001b[0m\u001b[1;36m0\u001b[0m\u001b[1;33m]\u001b[0m\u001b[1;33m\u001b[0m\u001b[1;33m\u001b[0m\u001b[0m\n\u001b[0m\u001b[0;32m      7\u001b[0m     \u001b[0ms2\u001b[0m \u001b[1;33m=\u001b[0m \u001b[0mline\u001b[0m\u001b[1;33m[\u001b[0m\u001b[1;36m1\u001b[0m\u001b[1;33m]\u001b[0m\u001b[1;33m\u001b[0m\u001b[1;33m\u001b[0m\u001b[0m\n\u001b[0;32m      8\u001b[0m     \u001b[1;31m#  然后进行递归\u001b[0m\u001b[1;33m\u001b[0m\u001b[1;33m\u001b[0m\u001b[0m\n",
      "\u001b[1;31mIndexError\u001b[0m: list index out of range"
     ]
    }
   ],
   "source": [
    "# 动态规划 编辑距离\n",
    "n = int(input())\n",
    "\n",
    "for _ in range(n):\n",
    "    line = input().split()\n",
    "    s1 = line[0]\n",
    "    s2 = line[1]\n",
    "    #  然后进行递归\n",
    "    f = [[0]*(len(s2)+1) for _ in range(len(s1)+1)]\n",
    "    for i in range(1,len(s1)+1):\n",
    "        f[i][0] = i\n",
    "    for j in range(1,len(s2)+1):\n",
    "        f[0][j] = j\n",
    "    for i, x in enumerate(s1):\n",
    "        for j, y in enumerate(s2):\n",
    "            if x==y:\n",
    "                f[i+1][j+1] = f[i][j]\n",
    "            else:\n",
    "                f[i+1][j+1] = min(f[i+1][j],f[i][j+1],f[i][j])+1\n",
    "    \n",
    "    print(f[len(s1)][len(s2)])"
   ]
  },
  {
   "cell_type": "code",
   "execution_count": 3,
   "metadata": {},
   "outputs": [
    {
     "name": "stdout",
     "output_type": "stream",
     "text": [
      "1 3 \n"
     ]
    }
   ],
   "source": [
    "while True:\n",
    "    try:\n",
    "        n = int(input())\n",
    "        num_list = input()\n",
    "        stack = []\n",
    "        ans = []\n",
    "        for i,x in enumerate(num_list):\n",
    "            if x == '1':\n",
    "                stack.append(i+1)\n",
    "            else:\n",
    "                \n",
    "                ans.append(stack.pop())\n",
    "                \n",
    "        for num in ans:\n",
    "            print(num, end = ' ')\n",
    "        print()   \n",
    "    except:\n",
    "        break"
   ]
  },
  {
   "cell_type": "code",
   "execution_count": 7,
   "metadata": {},
   "outputs": [
    {
     "name": "stdout",
     "output_type": "stream",
     "text": [
      "-1\n"
     ]
    },
    {
     "ename": "ValueError",
     "evalue": "not enough values to unpack (expected 2, got 0)",
     "output_type": "error",
     "traceback": [
      "\u001b[1;31m---------------------------------------------------------------------------\u001b[0m",
      "\u001b[1;31mValueError\u001b[0m                                Traceback (most recent call last)",
      "\u001b[1;32m~\\AppData\\Local\\Temp\\ipykernel_27332\\1184737854.py\u001b[0m in \u001b[0;36m<module>\u001b[1;34m\u001b[0m\n\u001b[0;32m      3\u001b[0m \u001b[1;32mwhile\u001b[0m \u001b[1;32mTrue\u001b[0m\u001b[1;33m:\u001b[0m\u001b[1;33m\u001b[0m\u001b[1;33m\u001b[0m\u001b[0m\n\u001b[0;32m      4\u001b[0m \u001b[1;33m\u001b[0m\u001b[0m\n\u001b[1;32m----> 5\u001b[1;33m     \u001b[1;33m(\u001b[0m\u001b[0mm\u001b[0m\u001b[1;33m,\u001b[0m \u001b[0mn\u001b[0m\u001b[1;33m)\u001b[0m \u001b[1;33m=\u001b[0m \u001b[0mmap\u001b[0m\u001b[1;33m(\u001b[0m\u001b[0mint\u001b[0m \u001b[1;33m,\u001b[0m\u001b[0minput\u001b[0m\u001b[1;33m(\u001b[0m\u001b[1;33m)\u001b[0m\u001b[1;33m.\u001b[0m\u001b[0msplit\u001b[0m\u001b[1;33m(\u001b[0m\u001b[1;33m)\u001b[0m\u001b[1;33m)\u001b[0m\u001b[1;33m\u001b[0m\u001b[1;33m\u001b[0m\u001b[0m\n\u001b[0m\u001b[0;32m      6\u001b[0m     \u001b[1;32mif\u001b[0m \u001b[1;33m(\u001b[0m\u001b[0mm\u001b[0m\u001b[1;33m,\u001b[0m\u001b[0mn\u001b[0m\u001b[1;33m)\u001b[0m\u001b[1;33m==\u001b[0m\u001b[1;33m(\u001b[0m\u001b[1;36m0\u001b[0m\u001b[1;33m,\u001b[0m\u001b[1;36m0\u001b[0m\u001b[1;33m)\u001b[0m\u001b[1;33m:\u001b[0m\u001b[1;33m\u001b[0m\u001b[1;33m\u001b[0m\u001b[0m\n\u001b[0;32m      7\u001b[0m         \u001b[1;32mbreak\u001b[0m\u001b[1;33m\u001b[0m\u001b[1;33m\u001b[0m\u001b[0m\n",
      "\u001b[1;31mValueError\u001b[0m: not enough values to unpack (expected 2, got 0)"
     ]
    }
   ],
   "source": [
    "# 仙岛求药bfs\n",
    "from collections import deque\n",
    "while True:\n",
    "    \n",
    "    (m, n) = map(int ,input().split())\n",
    "    if (m,n)==(0,0):\n",
    "        break\n",
    "    matrix = [[0]*n for _ in range(m)]\n",
    "    is_visited = [[0]*n for _ in range(m)]\n",
    "    q = deque()\n",
    "    # 接受输入\n",
    "    for i in range(m):\n",
    "        line = input()\n",
    "        for j in range(len(line)):\n",
    "            matrix[i][j] = line[j]\n",
    "            if line[j] =='@':\n",
    "                start = (i,j)\n",
    "            if line[j] =='*':\n",
    "                end = (i,j)\n",
    "    # print(matrix)\n",
    "    # 开始bfs\n",
    "    def bfs(start):\n",
    "        dx= [-1,1,0,0]\n",
    "        dy = [0,0,-1,1]\n",
    "        step =0\n",
    "        q.append(start)\n",
    "        x,y = start\n",
    "        is_visited[x][y] = 1\n",
    "        while q:\n",
    "            size = len(q)\n",
    "            step +=1\n",
    "            for _ in range(size):\n",
    "                x,y = q.popleft()\n",
    "                for i in range(4):\n",
    "                    new_x = x+dx[i]\n",
    "                    new_y = y+dy[i]\n",
    "                    if new_x < 0 or new_x >= n or new_y < 0 or new_y >= m:\n",
    "                        continue\n",
    "                    if matrix[new_x][new_y] == '#':\n",
    "                        continue\n",
    "                    if is_visited[new_x][new_y]==1:\n",
    "                        continue\n",
    "                    if matrix[new_x][new_y] == '*':\n",
    "                        return step\n",
    "                    if matrix[new_x][new_y] == '.':\n",
    "                        q.append((new_x, new_y))\n",
    "                        is_visited[new_x][new_y]=1\n",
    "        return -1\n",
    "    ans = bfs(start)\n",
    "    print(ans)"
   ]
  }
 ],
 "metadata": {
  "kernelspec": {
   "display_name": "d2l",
   "language": "python",
   "name": "python3"
  },
  "language_info": {
   "codemirror_mode": {
    "name": "ipython",
    "version": 3
   },
   "file_extension": ".py",
   "mimetype": "text/x-python",
   "name": "python",
   "nbconvert_exporter": "python",
   "pygments_lexer": "ipython3",
   "version": "3.9.13"
  }
 },
 "nbformat": 4,
 "nbformat_minor": 2
}
