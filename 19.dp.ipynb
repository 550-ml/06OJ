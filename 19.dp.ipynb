{
 "cells": [
  {
   "cell_type": "code",
   "execution_count": 1,
   "metadata": {},
   "outputs": [
    {
     "name": "stdout",
     "output_type": "stream",
     "text": [
      "5\n"
     ]
    }
   ],
   "source": [
    "# 跳台阶问题\n",
    "# dfs解法\n",
    "\n",
    "n = int(input())\n",
    "memory = [0] * (n+1)\n",
    "def dfs(n):\n",
    "    if memory[n] != 0:\n",
    "        return memory[n]\n",
    "    if n == 1:\n",
    "        return 1\n",
    "    if n == 2:\n",
    "        return 2\n",
    "    memory[n] = dfs(n-1) + dfs(n-2)\n",
    "    return memory[n]\n",
    "print(dfs(n))"
   ]
  },
  {
   "cell_type": "code",
   "execution_count": 2,
   "metadata": {},
   "outputs": [
    {
     "name": "stdout",
     "output_type": "stream",
     "text": [
      "5\n"
     ]
    }
   ],
   "source": [
    "# dp就是从底向上的解法\n",
    "# 找到最小的子问题\n",
    "\n",
    "n = int(input())\n",
    "dp = [0] * (n+1)\n",
    "dp[1] = 1\n",
    "dp[2] = 2\n",
    "\n",
    "for i in range(3, n+1):\n",
    "    dp[i] = dp[i-1] + dp[i-2]\n",
    "print(dp[n])"
   ]
  },
  {
   "cell_type": "code",
   "execution_count": null,
   "metadata": {},
   "outputs": [],
   "source": [
    "# 三角\n",
    "n = int(input())\n",
    "graph = [[0] * n for _ in range(n)]\n",
    "for i in range(n):\n",
    "    line = list(map(int, input().split()))\n",
    "    for j in range(i+1):\n",
    "        graph[i][j] = line[j]\n",
    "\n",
    "def dfs(y,x):\n",
    "    if y == n-1:\n",
    "        return graph[y][x]\n",
    "    return graph[y][x] + max(dfs(y+1,x), dfs(y+1,x+1))\n",
    "\n",
    "\n",
    "dp = [[0] * n for _ in range(n)]\n",
    "\n",
    "for i in range(n-1, -1, -1):\n",
    "    for j in range(i+1):\n",
    "        if i == n-1:\n",
    "            dp[i][j] = graph[i][j]\n",
    "        else:\n",
    "            dp[i][j] = graph[i][j] + max(dp[i+1][j], dp[i+1][j+1])\n",
    "print(dp[0][0])\n"
   ]
  },
  {
   "cell_type": "code",
   "execution_count": null,
   "metadata": {},
   "outputs": [],
   "source": [
    "# 01背包\n",
    "(n,V) = map(int, input().split())\n",
    "ob_list = []\n",
    "\n",
    "\n",
    "for i in range(n):\n",
    "    ob_list.append(list(map(int, input().split())))\n",
    "ans = 0\n",
    "def dfs(list_index, bag_spv, sumW):\n",
    "    global ans\n",
    "    if list_index == n:\n",
    "        ans = max(ans, sumW)\n",
    "        return sumW\n",
    "    (v, w) = ob_list[list_index]\n",
    "    if bag_spv < v:\n",
    "        result = dfs(list_index+1, bag_spv, sumW)\n",
    "    else:\n",
    "        result = max(dfs(list_index+1, bag_spv, sumW), dfs(list_index+1, bag_spv-v, sumW+w))\n",
    "    \n",
    "\n",
    "    \n",
    "dfs(0, V, 0)\n",
    "print(ans)"
   ]
  },
  {
   "cell_type": "code",
   "execution_count": null,
   "metadata": {},
   "outputs": [],
   "source": [
    "memory = [[0] * (V+1) for _ in range(n+1)]\n",
    "\n",
    "def dfs(list_index, bag_spv):\n",
    "    if memory[list_index][bag_spv] != 0:\n",
    "        return memory[list_index][bag_spv]\n",
    "    if list_index == n:\n",
    "        return 0\n",
    "    (v, w) = ob_list[list_index]\n",
    "    if bag_spv < v:\n",
    "        result = dfs(list_index+1, bag_spv)\n",
    "    else:\n",
    "        result = max(dfs(list_index+1, bag_spv), dfs(list_index+1, bag_spv-v)+w)\n",
    "    memory[list_index][bag_spv] = result\n",
    "    return result"
   ]
  },
  {
   "cell_type": "code",
   "execution_count": null,
   "metadata": {},
   "outputs": [],
   "source": [
    "# 01背包\n",
    "(n,V) = map(int, input().split())\n",
    "ob_list = []\n",
    "\n",
    "\n",
    "for i in range(n):\n",
    "    ob_list.append(list(map(int, input().split())))\n",
    "ans = 0\n",
    "memory = [[0] * (V+1) for _ in range(n+1)]\n",
    "\n",
    "def dfs(list_index, bag_spv):\n",
    "    if memory[list_index][bag_spv] != 0:\n",
    "        return memory[list_index][bag_spv]\n",
    "    if list_index == n:\n",
    "        return  0\n",
    "    # 可以选\n",
    "    (v, w) = ob_list[list_index]\n",
    "    if (bag_spv < v):\n",
    "        result = dfs(list_index+1, bag_spv)\n",
    "    \n",
    "    else:\n",
    "        result = max(dfs(list_index+1, bag_spv), dfs(list_index+1, bag_spv-v)+w)\n",
    "    memory[list_index][bag_spv] = result\n",
    "    return result\n",
    "\n",
    "ans = dfs(0,V)\n",
    "print(ans)"
   ]
  },
  {
   "cell_type": "code",
   "execution_count": 3,
   "metadata": {},
   "outputs": [
    {
     "ename": "NameError",
     "evalue": "name 'V' is not defined",
     "output_type": "error",
     "traceback": [
      "\u001b[1;31m---------------------------------------------------------------------------\u001b[0m",
      "\u001b[1;31mNameError\u001b[0m                                 Traceback (most recent call last)",
      "Input \u001b[1;32mIn [3]\u001b[0m, in \u001b[0;36m<cell line: 1>\u001b[1;34m()\u001b[0m\n\u001b[1;32m----> 1\u001b[0m f \u001b[38;5;241m=\u001b[39m [[\u001b[38;5;241m0\u001b[39m]\u001b[38;5;241m*\u001b[39m(V) \u001b[38;5;28;01mfor\u001b[39;00m _ \u001b[38;5;129;01min\u001b[39;00m \u001b[38;5;28mrange\u001b[39m(n)]\n\u001b[0;32m      2\u001b[0m \u001b[38;5;66;03m# 递推直接求解\u001b[39;00m\n\u001b[0;32m      3\u001b[0m \u001b[38;5;28;01mfor\u001b[39;00m i \u001b[38;5;129;01min\u001b[39;00m \u001b[38;5;28mrange\u001b[39m(n\u001b[38;5;241m-\u001b[39m\u001b[38;5;241m1\u001b[39m ,\u001b[38;5;241m-\u001b[39m\u001b[38;5;241m1\u001b[39m ,\u001b[38;5;241m-\u001b[39m\u001b[38;5;241m1\u001b[39m):\n",
      "Input \u001b[1;32mIn [3]\u001b[0m, in \u001b[0;36m<listcomp>\u001b[1;34m(.0)\u001b[0m\n\u001b[1;32m----> 1\u001b[0m f \u001b[38;5;241m=\u001b[39m [[\u001b[38;5;241m0\u001b[39m]\u001b[38;5;241m*\u001b[39m(\u001b[43mV\u001b[49m) \u001b[38;5;28;01mfor\u001b[39;00m _ \u001b[38;5;129;01min\u001b[39;00m \u001b[38;5;28mrange\u001b[39m(n)]\n\u001b[0;32m      2\u001b[0m \u001b[38;5;66;03m# 递推直接求解\u001b[39;00m\n\u001b[0;32m      3\u001b[0m \u001b[38;5;28;01mfor\u001b[39;00m i \u001b[38;5;129;01min\u001b[39;00m \u001b[38;5;28mrange\u001b[39m(n\u001b[38;5;241m-\u001b[39m\u001b[38;5;241m1\u001b[39m ,\u001b[38;5;241m-\u001b[39m\u001b[38;5;241m1\u001b[39m ,\u001b[38;5;241m-\u001b[39m\u001b[38;5;241m1\u001b[39m):\n",
      "\u001b[1;31mNameError\u001b[0m: name 'V' is not defined"
     ]
    }
   ],
   "source": [
    "f = [[0]*(V) for _ in range(n)]\n",
    "# 递推直接求解\n",
    "for i in range(n-1 ,-1 ,-1):\n",
    "    (v, w) = ob_list[i]\n",
    "    for j in range(V+1):\n",
    "        if(j < v):\n",
    "            f[i][j] = f[i+1][j]\n",
    "        else:\n",
    "            f[i][j] = max(f[i+1][j], f[i+1][j-v]+w)\n",
    "\n",
    "print(f[0][5])"
   ]
  },
  {
   "cell_type": "code",
   "execution_count": 3,
   "metadata": {},
   "outputs": [
    {
     "name": "stdout",
     "output_type": "stream",
     "text": [
      "5 1 "
     ]
    }
   ],
   "source": [
    "n_list = list(map(int, input().split()))\n",
    "for n in n_list:\n",
    "    dp = [0]*max(1000,n+1)\n",
    "\n",
    "    dp[1] = 1\n",
    "    dp[2] = 2\n",
    "\n",
    "    if n<=2:\n",
    "        print(dp[n], end=' ')\n",
    "    else:\n",
    "        for i in range(3, n+1):\n",
    "            dp[i] = dp[i-1]+dp[i-2]\n",
    "        print(dp[n], end=' ')"
   ]
  },
  {
   "cell_type": "code",
   "execution_count": 1,
   "metadata": {},
   "outputs": [
    {
     "name": "stdout",
     "output_type": "stream",
     "text": [
      "5\n"
     ]
    }
   ],
   "source": [
    "# 简单的吃巧克力\n",
    "while True:\n",
    "    try:\n",
    "        n_list = list(map(int, input().split()))\n",
    "        for n in n_list:\n",
    "            dp = [0]*max(1000,n+1)\n",
    "\n",
    "            dp[1] = 1\n",
    "            dp[2] = 2\n",
    "\n",
    "            if n<=2:\n",
    "                print(dp[n])\n",
    "            else:\n",
    "                for i in range(3, n+1):\n",
    "                    dp[i] = dp[i-1]+dp[i-2]\n",
    "                print(dp[n])\n",
    "        \n",
    "    except:\n",
    "        break"
   ]
  },
  {
   "cell_type": "code",
   "execution_count": 9,
   "metadata": {},
   "outputs": [
    {
     "name": "stdout",
     "output_type": "stream",
     "text": [
      "1\n",
      "5\n"
     ]
    }
   ],
   "source": [
    "n = int(input())\n",
    "# 变量是天数\n",
    "dp = [0]*1010\n",
    "dp[0]=1\n",
    "dp[1]=1\n",
    "for i in range(2, 1001):\n",
    "    dp[i] = dp[i-1] + 2*i- 1\n",
    "\n",
    "for i in range(n):\n",
    "    \n",
    "    index = int(input())\n",
    "    if index<2:\n",
    "        print(dp[index])\n",
    "    else:\n",
    "        print(dp[index]+dp[index-1])"
   ]
  }
 ],
 "metadata": {
  "kernelspec": {
   "display_name": "d2l",
   "language": "python",
   "name": "python3"
  },
  "language_info": {
   "codemirror_mode": {
    "name": "ipython",
    "version": 3
   },
   "file_extension": ".py",
   "mimetype": "text/x-python",
   "name": "python",
   "nbconvert_exporter": "python",
   "pygments_lexer": "ipython3",
   "version": "0.0.0"
  }
 },
 "nbformat": 4,
 "nbformat_minor": 2
}
