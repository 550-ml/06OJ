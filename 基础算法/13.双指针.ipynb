{
 "cells": [
  {
   "cell_type": "code",
   "execution_count": null,
   "metadata": {},
   "outputs": [],
   "source": [
    "(n,m ,x ) = map(int, input().split())\n",
    "list1 = list(map(int, input().split()))\n",
    "list2 = list(map(int, input().split()))\n",
    "j = m-1\n",
    "for i in range(n):\n",
    "\n",
    "    while list1[i]+list2[j]>x and j>=0:\n",
    "        j-=1\n",
    "    if list1[i]+list2[j]==x:\n",
    "        print(i,j)\n",
    "        break"
   ]
  },
  {
   "cell_type": "code",
   "execution_count": 1,
   "metadata": {},
   "outputs": [
    {
     "name": "stdout",
     "output_type": "stream",
     "text": [
      "0 2\n"
     ]
    }
   ],
   "source": [
    "# 两数之和\n",
    "list  = [1,2 ,3 ,4,5]\n",
    "target = 4\n",
    "def two_sum(list, target):\n",
    "    i = 0\n",
    "    j = len(list)-1\n",
    "    while True:\n",
    "        x = list[i] + list[j]\n",
    "        if x == target:\n",
    "            break\n",
    "        if x>target:\n",
    "            j-=1\n",
    "        else:\n",
    "            i+=1\n",
    "    print(i,j)\n",
    "two_sum(list, 4)"
   ]
  },
  {
   "cell_type": "code",
   "execution_count": null,
   "metadata": {},
   "outputs": [],
   "source": [
    "# 最长不重复子段\n",
    "n= int(input())\n",
    "num_list = list(map(int, input().split()))\n",
    "\n",
    "dic = dict.fromkeys(num_list, 0)\n",
    "\n",
    "j=0\n",
    "num=0\n",
    "for i in range(n):\n",
    "    dic[num_list[i]]+=1\n",
    "    while dic[num_list[i]]>1:\n",
    "        # 要更新\n",
    "        dic[num_list[j]] -=1\n",
    "        j+=1\n",
    "    \n",
    "    num = max(num, i-j+1)\n",
    "    \n",
    "print(num)"
   ]
  },
  {
   "cell_type": "code",
   "execution_count": 2,
   "metadata": {},
   "outputs": [
    {
     "ename": "IndentationError",
     "evalue": "expected an indented block (2345367801.py, line 9)",
     "output_type": "error",
     "traceback": [
      "\u001b[1;36m  File \u001b[1;32m\"C:\\Users\\24612\\AppData\\Local\\Temp\\ipykernel_21312\\2345367801.py\"\u001b[1;36m, line \u001b[1;32m9\u001b[0m\n\u001b[1;33m    if list_a[pa] == list_b[pb]:\u001b[0m\n\u001b[1;37m                                ^\u001b[0m\n\u001b[1;31mIndentationError\u001b[0m\u001b[1;31m:\u001b[0m expected an indented block\n"
     ]
    }
   ],
   "source": [
    "# 判断子序列\n",
    "(n,m ) = map(int,input().split)\n",
    "list_a = list(map(int, input().split()))\n",
    "list_b = list(map(int, input().split()))\n",
    "\n",
    "pa = 0\n",
    "pb = 0\n",
    "while pa<len(list_a) and pb < len(list_b):\n",
    "    if list_a[pa] == list_b[pb]:\n",
    "        pa+=1\n",
    "        pb+=1\n",
    "    else:\n",
    "        pb+=1\n",
    "if pa==len(list_a):\n",
    "    print('Yes')\n",
    "else:\n",
    "    print('No')"
   ]
  },
  {
   "cell_type": "code",
   "execution_count": null,
   "metadata": {},
   "outputs": [],
   "source": [
    "# 区间和\n",
    "(n, m ) = map(int, input().split())\n",
    "\n",
    "for _ in"
   ]
  },
  {
   "cell_type": "code",
   "execution_count": null,
   "metadata": {},
   "outputs": [],
   "source": []
  }
 ],
 "metadata": {
  "kernelspec": {
   "display_name": "base",
   "language": "python",
   "name": "python3"
  },
  "language_info": {
   "codemirror_mode": {
    "name": "ipython",
    "version": 3
   },
   "file_extension": ".py",
   "mimetype": "text/x-python",
   "name": "python",
   "nbconvert_exporter": "python",
   "pygments_lexer": "ipython3",
   "version": "3.9.13"
  }
 },
 "nbformat": 4,
 "nbformat_minor": 2
}
