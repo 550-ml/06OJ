{
 "cells": [
  {
   "cell_type": "markdown",
   "metadata": {},
   "source": [
    "# 快速排序"
   ]
  },
  {
   "cell_type": "code",
   "execution_count": 1,
   "metadata": {},
   "outputs": [
    {
     "name": "stdout",
     "output_type": "stream",
     "text": [
      "[1, 1, 2, 3, 6, 8, 10]\n"
     ]
    }
   ],
   "source": [
    "def quick_sort(arr):\n",
    "    # 判断长度是否小于等于1\n",
    "    if len(arr) <= 1:\n",
    "        return arr\n",
    "    else:\n",
    "        # 选取第一个\n",
    "        pivot = arr[0]\n",
    "        # 小于的\n",
    "        less = [x for x in arr[1:] if x <= pivot]\n",
    "        # 大约的\n",
    "        greater = [x for x in arr[1:] if x > pivot]\n",
    "    # 递归返回\n",
    "    return quick_sort(less) + [pivot] + quick_sort(greater)\n",
    "array = [3, 6, 8, 10, 1, 2, 1]\n",
    "sorted_array = quick_sort(array)\n",
    "print(sorted_array)"
   ]
  },
  {
   "cell_type": "code",
   "execution_count": 3,
   "metadata": {},
   "outputs": [
    {
     "name": "stdout",
     "output_type": "stream",
     "text": [
      "3 3 4 5\n"
     ]
    }
   ],
   "source": [
    "# 读取输入\n",
    "n = int(input())\n",
    "num_array = list(map(int, input().split()))\n",
    "ans = ' '.join(map(str, quick_sort(num_array)))\n",
    "print(ans)"
   ]
  },
  {
   "cell_type": "code",
   "execution_count": 6,
   "metadata": {},
   "outputs": [
    {
     "name": "stdout",
     "output_type": "stream",
     "text": [
      "[2, 3, 4]\n"
     ]
    }
   ],
   "source": [
    "n = int(input())\n",
    "num_array = list(map(int, input().split()))\n",
    "num_array.sort()\n",
    "ans = ' '.join(map(str, num_array))\n",
    "print(ans)"
   ]
  },
  {
   "cell_type": "code",
   "execution_count": 9,
   "metadata": {},
   "outputs": [
    {
     "name": "stdout",
     "output_type": "stream",
     "text": [
      "1 3 5 24\n"
     ]
    }
   ],
   "source": [
    "from typing import List\n",
    "\n",
    "def quick_sort(q, l, r):\n",
    "    # 判断左右\n",
    "    if l >= r:\n",
    "        return\n",
    "    # 选取中间值\n",
    "    p, i, j = q[l + r >> 1], l - 1, r + 1\n",
    "    # 循环\n",
    "    while i < j:\n",
    "        while 1:\n",
    "            i+=1\n",
    "            if q[i] >= p:\n",
    "                break\n",
    "        while 1:\n",
    "            j-=1\n",
    "            if q[j] <= p:\n",
    "                break\n",
    "        if i < j:\n",
    "            q[i], q[j] = q[j], q[i]\n",
    "    quick_sort(q, l, j)\n",
    "    quick_sort(q, j + 1, r)\n",
    "\n",
    "n = int(input())\n",
    "num_list = list(map(int,input().split()))\n",
    "quick_sort(num_list, 0, len(num_list)-1)\n",
    "ans = ' '.join(map(str, num_list))\n",
    "print(ans)"
   ]
  },
  {
   "cell_type": "code",
   "execution_count": 10,
   "metadata": {},
   "outputs": [
    {
     "name": "stdout",
     "output_type": "stream",
     "text": [
      "4\n"
     ]
    }
   ],
   "source": [
    "# k个数\n",
    "n, k = map(int, input().split())\n",
    "\n",
    "num_list = list(map(int, input().split()))\n",
    "num_list.sort()\n",
    "print(num_list[k-1])"
   ]
  },
  {
   "cell_type": "code",
   "execution_count": 21,
   "metadata": {},
   "outputs": [
    {
     "ename": "ValueError",
     "evalue": "invalid literal for int() with base 10: ''",
     "output_type": "error",
     "traceback": [
      "\u001b[1;31m---------------------------------------------------------------------------\u001b[0m",
      "\u001b[1;31mValueError\u001b[0m                                Traceback (most recent call last)",
      "Input \u001b[1;32mIn [21]\u001b[0m, in \u001b[0;36m<cell line: 27>\u001b[1;34m()\u001b[0m\n\u001b[0;32m     24\u001b[0m     \u001b[38;5;28;01melse\u001b[39;00m:\n\u001b[0;32m     25\u001b[0m         \u001b[38;5;28;01mreturn\u001b[39;00m choice_k(q, j\u001b[38;5;241m+\u001b[39m\u001b[38;5;241m1\u001b[39m, r,k\u001b[38;5;241m-\u001b[39m(j\u001b[38;5;241m-\u001b[39ml\u001b[38;5;241m+\u001b[39m\u001b[38;5;241m1\u001b[39m))\n\u001b[1;32m---> 27\u001b[0m s \u001b[38;5;241m=\u001b[39m \u001b[38;5;28;43mlist\u001b[39;49m\u001b[43m(\u001b[49m\u001b[38;5;28;43mmap\u001b[39;49m\u001b[43m(\u001b[49m\u001b[38;5;28;43mint\u001b[39;49m\u001b[43m,\u001b[49m\u001b[38;5;28;43minput\u001b[39;49m\u001b[43m(\u001b[49m\u001b[43m)\u001b[49m\u001b[38;5;241;43m.\u001b[39;49m\u001b[43msplit\u001b[49m\u001b[43m(\u001b[49m\u001b[38;5;124;43m'\u001b[39;49m\u001b[38;5;124;43m \u001b[39;49m\u001b[38;5;124;43m'\u001b[39;49m\u001b[43m)\u001b[49m\u001b[43m)\u001b[49m\u001b[43m)\u001b[49m\n\u001b[0;32m     28\u001b[0m n \u001b[38;5;241m=\u001b[39m s[\u001b[38;5;241m0\u001b[39m]\n\u001b[0;32m     29\u001b[0m k \u001b[38;5;241m=\u001b[39m s[\u001b[38;5;241m1\u001b[39m]\n",
      "\u001b[1;31mValueError\u001b[0m: invalid literal for int() with base 10: ''"
     ]
    }
   ],
   "source": [
    "def choice_k(q, l, r, k):\n",
    "    # 判断是否合理\n",
    "    if l>=r:\n",
    "        return q[l]\n",
    "\n",
    "    p = q[l+r>>1]\n",
    "    i = l-1\n",
    "    j = r+1\n",
    "    while i<j:\n",
    "        while True:\n",
    "            i+=1\n",
    "            if q[i]>=p:\n",
    "                break\n",
    "        while True:\n",
    "            j -=1\n",
    "            if q[j]<=p:\n",
    "                break\n",
    "        if i<j:\n",
    "            q[i],q[j]= q[j],q[i]\n",
    "    \n",
    "    # k\n",
    "    if(j-l+1)>=k:\n",
    "        return choice_k(q, l, j, k)\n",
    "    else:\n",
    "        return choice_k(q, j+1, r,k-(j-l+1))\n",
    "\n",
    "s = list(map(int,input().split(' ')))\n",
    "n = s[0]\n",
    "k = s[1]\n",
    "q = list(map(int,input().split(' ')))\n",
    "choice_k(q, 0, n-1,k)\n",
    "print(choice_k(q, 0, n-1,k))"
   ]
  },
  {
   "cell_type": "code",
   "execution_count": 29,
   "metadata": {},
   "outputs": [
    {
     "name": "stdout",
     "output_type": "stream",
     "text": [
      "1\n",
      "1\n",
      "2\n",
      "1\n"
     ]
    }
   ],
   "source": [
    "# 进制转换\n",
    "def int_to_bin(n):\n",
    "    return bin(n) # 返回一个字符串\n",
    "n= int(input())\n",
    "for i in range(n):\n",
    "    ten = int(input())\n",
    "\n",
    "\n",
    "    bin_n = int_to_bin(ten)\n",
    "    char = '1'\n",
    "    num = bin_n.count(char)\n",
    "\n",
    "    print(num)\n"
   ]
  }
 ],
 "metadata": {
  "kernelspec": {
   "display_name": "d2l",
   "language": "python",
   "name": "python3"
  },
  "language_info": {
   "codemirror_mode": {
    "name": "ipython",
    "version": 3
   },
   "file_extension": ".py",
   "mimetype": "text/x-python",
   "name": "python",
   "nbconvert_exporter": "python",
   "pygments_lexer": "ipython3",
   "version": "0.0.0"
  }
 },
 "nbformat": 4,
 "nbformat_minor": 2
}
