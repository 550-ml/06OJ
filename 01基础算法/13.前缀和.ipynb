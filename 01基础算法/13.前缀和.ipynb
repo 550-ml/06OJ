{
 "cells": [
  {
   "cell_type": "code",
   "execution_count": null,
   "metadata": {},
   "outputs": [],
   "source": [
    "(n,m) = map(int, input().split())\n",
    "a = [0]*n\n",
    "s = [0] *n\n",
    "\n",
    "a = list(map(int, input().split()))\n",
    "for i in range(n):\n",
    "    if i == 0:\n",
    "        s[i] = a[i]\n",
    "    else:\n",
    "        s[i] = s[i-1]+a[i]\n",
    "\n",
    "for _ in range(m):\n",
    "    l, r = map(int,input().split())\n",
    "    print(s[r-1]- s[l-1]+a[l-1])"
   ]
  },
  {
   "cell_type": "code",
   "execution_count": 6,
   "metadata": {},
   "outputs": [
    {
     "ename": "ValueError",
     "evalue": "not enough values to unpack (expected 2, got 0)",
     "output_type": "error",
     "traceback": [
      "\u001b[1;31m---------------------------------------------------------------------------\u001b[0m",
      "\u001b[1;31mValueError\u001b[0m                                Traceback (most recent call last)",
      "\u001b[1;32m~\\AppData\\Local\\Temp\\ipykernel_20320\\2499070980.py\u001b[0m in \u001b[0;36m<module>\u001b[1;34m\u001b[0m\n\u001b[0;32m      1\u001b[0m \u001b[1;31m# 为k的\u001b[0m\u001b[1;33m\u001b[0m\u001b[1;33m\u001b[0m\u001b[0m\n\u001b[1;32m----> 2\u001b[1;33m \u001b[1;33m(\u001b[0m\u001b[0mn\u001b[0m\u001b[1;33m,\u001b[0m \u001b[0mm\u001b[0m\u001b[1;33m)\u001b[0m \u001b[1;33m=\u001b[0m \u001b[0mmap\u001b[0m\u001b[1;33m(\u001b[0m\u001b[0mint\u001b[0m\u001b[1;33m,\u001b[0m\u001b[0minput\u001b[0m\u001b[1;33m(\u001b[0m\u001b[1;33m)\u001b[0m\u001b[1;33m.\u001b[0m\u001b[0msplit\u001b[0m\u001b[1;33m(\u001b[0m\u001b[1;33m)\u001b[0m\u001b[1;33m)\u001b[0m\u001b[1;33m\u001b[0m\u001b[1;33m\u001b[0m\u001b[0m\n\u001b[0m\u001b[0;32m      3\u001b[0m \u001b[0mstr_list\u001b[0m \u001b[1;33m=\u001b[0m \u001b[0minput\u001b[0m\u001b[1;33m(\u001b[0m\u001b[1;33m)\u001b[0m\u001b[1;33m\u001b[0m\u001b[1;33m\u001b[0m\u001b[0m\n\u001b[0;32m      4\u001b[0m \u001b[1;31m# print(str_list)\u001b[0m\u001b[1;33m\u001b[0m\u001b[1;33m\u001b[0m\u001b[0m\n\u001b[0;32m      5\u001b[0m \u001b[0mnum_list\u001b[0m \u001b[1;33m=\u001b[0m \u001b[1;33m[\u001b[0m\u001b[1;33m]\u001b[0m\u001b[1;33m\u001b[0m\u001b[1;33m\u001b[0m\u001b[0m\n",
      "\u001b[1;31mValueError\u001b[0m: not enough values to unpack (expected 2, got 0)"
     ]
    }
   ],
   "source": [
    "# 为k的\n",
    "(n, m) = map(int,input().split())\n",
    "str_list = input()\n",
    "# print(str_list)\n",
    "num_list = []\n",
    "for str in str_list:\n",
    "    if str =='T':\n",
    "        num_list.append(2)\n",
    "    else:\n",
    "        num_list.append(1)\n",
    "# print(num_list)\n",
    "\n",
    "for _ in range(m):\n",
    "    dict = {}\n",
    "    k = int(input())\n",
    "    sum = 0\n",
    "    ans = None\n",
    "    for index,num in enumerate(num_list):\n",
    "        sum +=num\n",
    "        if sum not in dict:\n",
    "            dict[sum]=[1,index]\n",
    "        else:\n",
    "            dict[sum].append(index)\n",
    "            dict[sum][0]+=1\n",
    "        if sum-k in dict:\n",
    "            ans = [dict[sum-k][1], index]\n",
    "            break\n",
    "    if ans==None:\n",
    "        print('NIE')\n",
    "    else:\n",
    "        \n",
    "        print(ans[0]+1,end=' ')\n",
    "        print(ans[1]+1)"
   ]
  },
  {
   "cell_type": "code",
   "execution_count": null,
   "metadata": {},
   "outputs": [],
   "source": [
    "# 差分\n",
    "                                                                                                                                                                                                                                                                                                                                                                                                                                                                                                                                                                                                                                                                                                                                                                                                                                                                                                                                                                                                                                                                                                                                                                                                                                                                                                                                                                                                                                                                                                                                                                                                                                                            "
   ]
  },
  {
   "cell_type": "code",
   "execution_count": null,
   "metadata": {},
   "outputs": [],
   "source": [
    "# 数据\n",
    "n = int(input())\n",
    "num_list = []\n",
    "for _ in range(n):\n",
    "    l = list(map(int, input().split()))\n",
    "    num_list.append(l)\n",
    "\n",
    "num_list.sort(key=lambda x: x[0])\n",
    "start = num_list[0][0]\n",
    "end = num_list[0][1]\n",
    "count = 1\n",
    "for i in range(1,n):\n",
    "    if num_list[i][1]<=end:\n",
    "        continue\n",
    "    if num_list[i][0]<=start and num_list[i][1]>end:\n",
    "        end = num_list[i][1]\n",
    "    if num_list[i][0]>end:\n",
    "        count+=1\n",
    "        start = num_list[i][0]\n",
    "        end = num_list[i][1]\n",
    "print(count)"
   ]
  }
 ],
 "metadata": {
  "kernelspec": {
   "display_name": "base",
   "language": "python",
   "name": "python3"
  },
  "language_info": {
   "codemirror_mode": {
    "name": "ipython",
    "version": 3
   },
   "file_extension": ".py",
   "mimetype": "text/x-python",
   "name": "python",
   "nbconvert_exporter": "python",
   "pygments_lexer": "ipython3",
   "version": "3.9.13"
  }
 },
 "nbformat": 4,
 "nbformat_minor": 2
}
