{
 "cells": [
  {
   "cell_type": "code",
   "execution_count": 1,
   "metadata": {},
   "outputs": [
    {
     "name": "stdout",
     "output_type": "stream",
     "text": [
      "111\n"
     ]
    }
   ],
   "source": [
    "# 10转2\n",
    "def dec_to_bin(num):\n",
    "    return bin(num)[2:]  # bin() 返回的是 '0b...'，去掉前两个字符\n",
    "\n",
    "# 示例\n",
    "print(dec_to_bin(7))  # 输出: 111"
   ]
  },
  {
   "cell_type": "code",
   "execution_count": 11,
   "metadata": {},
   "outputs": [
    {
     "name": "stdout",
     "output_type": "stream",
     "text": [
      "11\n",
      "b\n"
     ]
    }
   ],
   "source": [
    "# 10转16\n",
    "# 先要熟练的写输入\n",
    "a = int(input())\n",
    "print(a)\n",
    "def dec_to_hex(num):\n",
    "    return hex(num)[2:]\n",
    "print(dec_to_hex(a))"
   ]
  },
  {
   "cell_type": "code",
   "execution_count": 20,
   "metadata": {},
   "outputs": [
    {
     "name": "stdout",
     "output_type": "stream",
     "text": [
      "1902\n"
     ]
    }
   ],
   "source": [
    "# 其他进制转换10\n",
    "a = input() # 0xAAA\n",
    "\n",
    "# 先去除最开始的\n",
    "a = a.replace('0x','')\n",
    "def base_to_int(num_str, base):\n",
    "    return int(num_str, base)\n",
    "print(base_to_int(a, 16))\n"
   ]
  },
  {
   "cell_type": "code",
   "execution_count": 21,
   "metadata": {},
   "outputs": [
    {
     "name": "stdout",
     "output_type": "stream",
     "text": [
      "17\n"
     ]
    }
   ],
   "source": [
    "# 循环读取\n",
    "while True:\n",
    "    try:\n",
    "        a = input()\n",
    "        a = a.replace('0x','')\n",
    "        print(base_to_int(a, 16))\n",
    "    except:\n",
    "        break"
   ]
  },
  {
   "cell_type": "code",
   "execution_count": 3,
   "metadata": {},
   "outputs": [
    {
     "name": "stdout",
     "output_type": "stream",
     "text": [
      "234\n"
     ]
    }
   ],
   "source": [
    "def to_base7(number):\n",
    "    if number < 7:\n",
    "        return str(number)\n",
    "    else:\n",
    "        return to_base7(number // 7) + to_base7(number % 7)\n",
    "\n",
    "number = 123\n",
    "seven_base = to_base7(number)\n",
    "print(seven_base)"
   ]
  }
 ],
 "metadata": {
  "kernelspec": {
   "display_name": "d2l",
   "language": "python",
   "name": "python3"
  },
  "language_info": {
   "codemirror_mode": {
    "name": "ipython",
    "version": 3
   },
   "file_extension": ".py",
   "mimetype": "text/x-python",
   "name": "python",
   "nbconvert_exporter": "python",
   "pygments_lexer": "ipython3",
   "version": "3.9.13"
  }
 },
 "nbformat": 4,
 "nbformat_minor": 2
}
