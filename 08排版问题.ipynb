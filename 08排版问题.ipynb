{
 "cells": [
  {
   "cell_type": "code",
   "execution_count": 3,
   "metadata": {},
   "outputs": [
    {
     "name": "stdout",
     "output_type": "stream",
     "text": [
      "   *\n",
      "  ***\n",
      " *****\n",
      "*******\n",
      " *****\n",
      "  ***\n",
      "   *\n"
     ]
    }
   ],
   "source": [
    "def draw_diamond(n):\n",
    "    for i in range(n):\n",
    "        print(' '*(n-i-1), end='')\n",
    "        print('*'*(2*i+1))\n",
    "    for i in range(n-2, -1, -1):\n",
    "        print(' '*(n-i-1), end='')\n",
    "        print('*'*(2*i+1))\n",
    "n = int(input())\n",
    "draw_diamond(n)"
   ]
  }
 ],
 "metadata": {
  "kernelspec": {
   "display_name": "d2l",
   "language": "python",
   "name": "python3"
  },
  "language_info": {
   "codemirror_mode": {
    "name": "ipython",
    "version": 3
   },
   "file_extension": ".py",
   "mimetype": "text/x-python",
   "name": "python",
   "nbconvert_exporter": "python",
   "pygments_lexer": "ipython3",
   "version": "0.0.0"
  }
 },
 "nbformat": 4,
 "nbformat_minor": 2
}
