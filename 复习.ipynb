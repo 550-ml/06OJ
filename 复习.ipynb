{
 "cells": [
  {
   "cell_type": "code",
   "execution_count": null,
   "metadata": {},
   "outputs": [],
   "source": [
    "# 01背包问题\n",
    "(n, V)  = map(int, input().split())\n",
    "dp = [[0]*(V+1) for _ in range(n+1)]\n",
    "bag_list = []\n",
    "for _ in range(n):\n",
    "    (v, w) = map(int, input().split())\n",
    "    bag_list.append((v, w))\n",
    "\n",
    "for i in range(n-1, -1,-1):\n",
    "    (v,w) = bag_list[i]\n",
    "    for j in range(V+1):\n",
    "        if j<v:\n",
    "            # 不能选\n",
    "            dp[i][j] = dp[i+1][j]\n",
    "        else:\n",
    "            dp[i][j] = max(dp[i+1][j], dp[i+1][j-v]+w)\n",
    "print(dp[0][V])"
   ]
  },
  {
   "cell_type": "code",
   "execution_count": null,
   "metadata": {},
   "outputs": [],
   "source": [
    "# 完全背包问题\n",
    "(n, V)  = map(int, input().split())\n",
    "f = [[0]*(V+1) for _ in range(n+1)]\n",
    "bag_list = []\n",
    "for _ in range(n):\n",
    "    (v, w) = map(int, input().split())\n",
    "    bag_list.append((v, w))\n",
    "\n",
    "for i in range(n-1, -1,-1):\n",
    "    (v,w) = bag_list[i]\n",
    "    for j in range(V+1):\n",
    "        f[i][j] =  f[i+1][j]\n",
    "        if j>=v:\n",
    "            f[i][j] = max(f[i][j], f[i][j-v]+w)\n",
    "print(f[0][V])"
   ]
  },
  {
   "cell_type": "code",
   "execution_count": null,
   "metadata": {},
   "outputs": [],
   "source": [
    "(n, V ) = map(int, input().split())\n",
    "f = [[0]*(V+1) for _ in range(n+1)]\n",
    "bag_list = []\n",
    "for _ in range(n):\n",
    "    (v, w,s)= map(int, input().split())\n",
    "    bag_list.append((v,w,s))\n",
    "\n",
    "# dp \n",
    "for i in range(n-1, -1, -1):\n",
    "    (v,w,s) = bag_list[i]\n",
    "    for j in range(V+1):\n",
    "        f[i][j] = f[i+1][j]\n",
    "        for k in range(1,s+1):\n",
    "            if j>=k*v\n",
    "                f[i][j] = max(f[i][j], f[i+1][j-k*v]+k*w)\n",
    "print(f[0][V])"
   ]
  },
  {
   "cell_type": "code",
   "execution_count": null,
   "metadata": {},
   "outputs": [],
   "source": [
    "# 线性dp\n",
    "N = int(input())\n",
    "matrix = [[0]*(N+1) for _ in range(N+1)]\n",
    "\n",
    "for i in range(N):\n",
    "    matrix[i] = list(map(int, input().split()))\n",
    "\n",
    "f = [[0]*(N+1) for _ in range(N+1)]\n",
    "\n",
    "for i in range(N-1,-1,-1):\n",
    "    for j in range(i+1):\n",
    "        f[i][j] = max(f[i+1][j],f[i+1][j+1])+matrix[i][j]\n",
    "print(f[0][0])"
   ]
  },
  {
   "cell_type": "code",
   "execution_count": null,
   "metadata": {},
   "outputs": [],
   "source": [
    "# 最长上升子序列\n",
    "n = int(input())\n",
    "num_list = list(map(int, input().split()))\n",
    "f = [0]*(n+1)\n",
    "\n",
    "for i in range(n):\n",
    "    for j in range(i):\n",
    "        f[i] = max(f[i], f[j])+1\n",
    "print(max(f))"
   ]
  },
  {
   "cell_type": "code",
   "execution_count": null,
   "metadata": {},
   "outputs": [],
   "source": [
    "# 最长共子序列\n",
    "(n,m) = map(int,input().split())\n",
    "\n",
    "s = input().split()\n",
    "t = input().split()\n",
    "s = s[0]\n",
    "t = t[0]\n",
    "\n",
    "f = [[0]*(m+1) for _ in range(n+1)]\n",
    "for i, x in enumerate(s):\n",
    "    for j, y in enumerate(t):\n",
    "        if x==y:\n",
    "            f[i+1][j+1] = f[i][j]+1\n",
    "        else:\n",
    "            f[i+1][j+1] = max(f[i+1][j], f[i][j+1])\n",
    "print(f[n][m])"
   ]
  },
  {
   "cell_type": "code",
   "execution_count": null,
   "metadata": {},
   "outputs": [],
   "source": [
    "# 状态机DP\n",
    "n = int(input())\n",
    "num_list = list(map(int, input().split()))\n",
    "\n",
    "f = [[0]*2 for _ in range(n+1)]\n",
    "f[0][1]= -10000\n",
    "\n",
    "for i, p in enumerate(num_list):\n",
    "    f[i+1][0] = max(f[i][0], f[i][1]+p)\n",
    "    f[i+1][1] = max(f[i][1], f[i][0]-p)\n",
    "\n",
    "print(f[n][0])"
   ]
  },
  {
   "cell_type": "code",
   "execution_count": null,
   "metadata": {},
   "outputs": [],
   "source": [
    "n = int(input())\n",
    "num_list = [i+1 for (i) in range(n)]\n",
    "path = [0]\n",
    "ans =[]\n",
    "def dfs(i):\n",
    "    if len(path)==n:\n",
    "        ans.append(path.copy())\n",
    "        return\n",
    "    for num in num_list:\n",
    "        if num not in path:\n",
    "            \n",
    "\n"
   ]
  },
  {
   "cell_type": "code",
   "execution_count": null,
   "metadata": {},
   "outputs": [],
   "source": []
  }
 ],
 "metadata": {
  "language_info": {
   "name": "python"
  }
 },
 "nbformat": 4,
 "nbformat_minor": 2
}
