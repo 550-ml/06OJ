{
 "cells": [
  {
   "cell_type": "code",
   "execution_count": null,
   "metadata": {},
   "outputs": [],
   "source": [
    "# 图的bfs\n",
    "(n,m) = map(int, input().split())\n",
    "matrix = [[0]*m for _ in range(n)]\n",
    "is_visited = [[0]*m for _ in range(n)]\n",
    "from collections import deque\n",
    "q = deque()\n",
    "\n",
    "for i in range(n):\n",
    "    matrix[i] = list(map(int, input().split()))\n",
    "\n",
    "#3+5+3\n",
    "def bfs():\n",
    "    dx = [-1,1,0,0]\n",
    "    dy = [0,0,-1,1]\n",
    "    step = 0\n",
    "    q.append((0,0))\n",
    "    is_visited[0][0] = 1\n",
    "    while q:\n",
    "        size = len(q)\n",
    "        step+=1\n",
    "        for _ in size:\n",
    "            x,y = q.popleft()\n",
    "            for i in range(4):\n",
    "                new_x = x + dx[i]\n",
    "                new_y = y + dy[i]\n",
    "                if new_x == n-1 and new_y == m-1:\n",
    "                    return step\n",
    "                if new_x>=0 and new_x<n and new_y>=0 and new_y<m and matrix[new_x][new_y] ==0 and is_visited[new_x][new_y]== 0:\n",
    "                    q.append((new_x,new_y))\n",
    "                    is_visited[new_x][new_y] = 1\n",
    "    return 0\n",
    "step = bfs()\n",
    "print(step)\n",
    "                "
   ]
  },
  {
   "cell_type": "code",
   "execution_count": 1,
   "metadata": {},
   "outputs": [
    {
     "name": "stdout",
     "output_type": "stream",
     "text": [
      "['a']\n"
     ]
    }
   ],
   "source": [
    "class Solution:\n",
    "    def partition(self, s: str) -> List[List[str]]:\n",
    "        # 子集形dfs\n",
    "        ans = []\n",
    "        path = []\n",
    "        n = len(s)\n",
    "        path.append(s[0])\n",
    "\n",
    "        def dfs(i):\n",
    "            # 边界条件\n",
    "            if i == n:\n",
    "                ans.append(path.copy())\n",
    "                return\n",
    "            # 不选\n",
    "            path[-1]+=s[i]\n",
    "            dfs(i+1)\n",
    "            path[-1] = path[-1][:-1]\n",
    "            \n",
    "            # 选\n",
    "            path.append(s[i])\n",
    "            dfs(i+1)\n",
    "            path.pop()\n",
    "        dfs(1)\n",
    "\n",
    "        # 判断会文创\n",
    "        def judge_huiwen(s):\n",
    "            i = 0\n",
    "            j = len(s)-1\n",
    "            while i<=j:\n",
    "                if s[i]==s[j]:\n",
    "                    i+=1\n",
    "                    j-=1\n",
    "                else:\n",
    "                    return 0\n",
    "            return 1\n",
    "        ans1 = []\n",
    "        for path in ans:\n",
    "            is_huiwen =1\n",
    "            for s in path:\n",
    "                is_huiwen*=judge_huiwen(s)\n",
    "            if is_huiwen == 1:\n",
    "                ans1.append(path)\n",
    "        return ans1\n",
    "            "
   ]
  },
  {
   "cell_type": "code",
   "execution_count": null,
   "metadata": {},
   "outputs": [],
   "source": [
    "# 组合型，只需要在之前判断长度即可\n",
    "n = int(input())\n",
    "num_list = [i for i in range(1,n+1)]\n",
    "\n",
    "ans = []\n",
    "path = []\n",
    "def dfs(i):\n",
    "    # 边界条件\n",
    "    if len(path) == n:\n",
    "        ans.append(path.copy())\n",
    "        return\n",
    "    # 选谁\n",
    "    for num in num_list:\n",
    "        if num not in path:\n",
    "            path.append(num)\n",
    "            dfs(i+1)\n",
    "            path.pop()\n",
    "dfs(0)"
   ]
  },
  {
   "cell_type": "code",
   "execution_count": null,
   "metadata": {},
   "outputs": [
    {
     "ename": "",
     "evalue": "",
     "output_type": "error",
     "traceback": [
      "\u001b[1;31mThe Kernel crashed while executing code in the the current cell or a previous cell. Please review the code in the cell(s) to identify a possible cause of the failure. Click <a href='https://aka.ms/vscodeJupyterKernelCrash'>here</a> for more info. View Jupyter <a href='command:jupyter.viewOutput'>log</a> for further details."
     ]
    }
   ],
   "source": [
    "# 树的重心\n",
    "n = int(input())\n",
    "# 对于树的存储\n",
    "graph = {}\n",
    "\n",
    "for i in range(n-1):\n",
    "    a, b = map(int, input().split())\n",
    "    if a not in graph:\n",
    "        graph[a] = [b]\n",
    "    else:\n",
    "        graph[a].append(b)\n",
    "    if b not in graph:\n",
    "        graph[b] = [a]\n",
    "    else:\n",
    "        graph[b].append(b)\n",
    "\n",
    "# 图储存完了\n",
    "ans = 0\n",
    "is_visited = [0]* (n+1)\n",
    "def dfs(u):\n",
    "    # 边界条件\n",
    "    sum = 0\n",
    "    for i in graph[u]:\n",
    "        if is_visited[i] == 0:\n",
    "            is_visited[i] = 1\n",
    "            s = dfs(i)\n",
    "            sum+=s\n",
    "\n",
    "            ans = max(ans, s)\n",
    "    ans = max(ans, n-sum)\n",
    "    return sum+1\n",
    "dfs(1)\n",
    "print(ans)"
   ]
  }
 ],
 "metadata": {
  "kernelspec": {
   "display_name": "base",
   "language": "python",
   "name": "python3"
  },
  "language_info": {
   "codemirror_mode": {
    "name": "ipython",
    "version": 3
   },
   "file_extension": ".py",
   "mimetype": "text/x-python",
   "name": "python",
   "nbconvert_exporter": "python",
   "pygments_lexer": "ipython3",
   "version": "3.9.13"
  }
 },
 "nbformat": 4,
 "nbformat_minor": 2
}
